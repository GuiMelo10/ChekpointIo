{
  "nbformat": 4,
  "nbformat_minor": 0,
  "metadata": {
    "colab": {
      "provenance": []
    },
    "kernelspec": {
      "name": "python3",
      "display_name": "Python 3"
    },
    "language_info": {
      "name": "python"
    }
  },
  "cells": [
    {
      "cell_type": "markdown",
      "source": [
        "# **Checkpoint 01 - Modelagem de Dados e Aprendizagem de Máquina**\n",
        "\n",
        "## **Objetivo**\n",
        "Avaliar conceitos sobre Modelagem de dados e Aprendizado de Máquina (ML) adquiridos no curso.\n",
        "\n",
        "## **Descrição do Desafio**\n",
        "Você foi contratado por uma empresa que desenvolveu uma plataforma de compra e venda de carros usados. O funcionamento é bem simples, os usuários cadastram o carro que querem vender e esperam que outro usuário os compre, a empresa então fica com uma parte do valor de venda. Seu papel é desenvolver um modelo que possa determinar qual o melhor preço de venda para um usado.\n",
        "\n",
        "Para nortear o desenvolvimento, você precisa de um ponto de partida e determinou uma pergunta chave: **Qual o preço de venda de um veículo Volkswagen Sedan 2.0 a gasolina, ano 2005, com cerca de 172095 km rodados?**\n",
        "\n",
        "### **Orientações**\n",
        "Para responder a essa pergunta, você deve utilizar o dataset da empresa, que está representado no arquivo **carros.csv**, e seguir o roteiro proposto neste desafio."
      ],
      "metadata": {
        "id": "j-bzGvV3uE1y"
      }
    },
    {
      "cell_type": "markdown",
      "source": [
        "## **Exploração de Dados - 2 pontos**\n",
        "\n",
        "1 - Carregue o dataset e faça a inspeção nas 15 primeiras linhas para identificação dos atributos. Quantos dados existem nesse dataset? Qual a quantidade de atributos? Existem valores faltantes? De que tipo são os dados? (1,0)"
      ],
      "metadata": {
        "id": "3sD4e4IY13Ux"
      }
    },
    {
      "cell_type": "code",
      "source": [
        "url=\"https://raw.githubusercontent.com/GuiMelo10/ChekpointIo/main/carros.csv\"\n",
        "\n",
        "import pandas as pd\n",
        "\n",
        "df = pd.read_csv(url)\n",
        "\n",
        "print(df.head(15))\n",
        "\n",
        "num_data = df.shape[0]\n",
        "num_attr = df.shape[1]\n",
        "print(\"Número de dados:\", num_data)\n",
        "print(\"Número de atributos:\", num_attr)\n",
        "\n",
        "print(\"Valores faltantes por atributo:\\n\", df.isnull().sum())\n",
        "\n",
        "print(df.dtypes)"
      ],
      "metadata": {
        "id": "SsuvPzQQ5PAt",
        "colab": {
          "base_uri": "https://localhost:8080/"
        },
        "outputId": "f5e381ab-1d6c-4cdb-a5d2-4081678de2c7"
      },
      "execution_count": 64,
      "outputs": [
        {
          "output_type": "stream",
          "name": "stdout",
          "text": [
            "            Brand     Price       Body  Mileage/1000  EngineV Engine Type  \\\n",
            "0             BMW    4200.0      sedan           277     2.00      Petrol   \n",
            "1   Mercedes-Benz    7900.0        van           427     2.90      Diesel   \n",
            "2   Mercedes-Benz   13300.0      sedan           358     5.00         Gas   \n",
            "3            Audi   23000.0  crossover           240     4.20      Petrol   \n",
            "4          Toyota   18300.0  crossover           120     2.00      Petrol   \n",
            "5   Mercedes-Benz  199999.0  crossover             0     5.50      Petrol   \n",
            "6             BMW    6100.0      sedan           438     2.00         Gas   \n",
            "7            Audi   14200.0      vagon           200     2.70      Diesel   \n",
            "8         Renault   10799.0      vagon           193     1.50      Diesel   \n",
            "9      Volkswagen    1400.0      other           212     1.80         Gas   \n",
            "10        Renault   11950.0      vagon           177     1.50      Diesel   \n",
            "11        Renault    2500.0      sedan           260     1.79      Petrol   \n",
            "12           Audi    9500.0      vagon           165     2.70         Gas   \n",
            "13     Volkswagen   10500.0      sedan           100     1.80      Petrol   \n",
            "14         Toyota   16000.0  crossover           250     4.70         Gas   \n",
            "\n",
            "   Registration  Year             Model  \n",
            "0           yes  1991               320  \n",
            "1           yes  1999      Sprinter 212  \n",
            "2           yes  2003             S 500  \n",
            "3           yes  2007                Q7  \n",
            "4           yes  2011             Rav 4  \n",
            "5           yes  2016            GLS 63  \n",
            "6           yes  1997               320  \n",
            "7           yes  2006                A6  \n",
            "8           yes  2012            Megane  \n",
            "9            no  1999           Golf IV  \n",
            "10          yes  2011            Megane  \n",
            "11          yes  1994                19  \n",
            "12          yes  2003        A6 Allroad  \n",
            "13          yes  2008         Passat B6  \n",
            "14          yes  2001  Land Cruiser 100  \n",
            "Número de dados: 4345\n",
            "Número de atributos: 9\n",
            "Valores faltantes por atributo:\n",
            " Brand             0\n",
            "Price           172\n",
            "Body              0\n",
            "Mileage/1000      0\n",
            "EngineV         150\n",
            "Engine Type       0\n",
            "Registration      0\n",
            "Year              0\n",
            "Model             0\n",
            "dtype: int64\n",
            "Brand            object\n",
            "Price           float64\n",
            "Body             object\n",
            "Mileage/1000      int64\n",
            "EngineV         float64\n",
            "Engine Type      object\n",
            "Registration     object\n",
            "Year              int64\n",
            "Model            object\n",
            "dtype: object\n"
          ]
        }
      ]
    },
    {
      "cell_type": "markdown",
      "source": [
        "2 - Note que os dataset está no sistema americano. Converta os dados para o sistema métrico e altere o cabeçalho de forma que os dados façam sentido. (1,0)\n",
        "\n",
        "Obs: Os dados de Milhas dividos por mil, ou seja, multiplique o valor por 1.000 para ter o valor real!"
      ],
      "metadata": {
        "id": "qXaP-3r05bSZ"
      }
    },
    {
      "cell_type": "code",
      "source": [
        "traducao = {\n",
        "    \n",
        "    \"Brand\" : \"Marca\",\n",
        "    \"Price\" : \"Preço\",\n",
        "    \"Body\" : \"Tipo do carro\",\n",
        "    \"Mileage/1000\" : \"Milhas\",\n",
        "    \"EngineV\" : \"Motor\",\n",
        "    \"Engine Type\" : \"Tipo de combustivel\",\n",
        "    \"Registration\" : \"Registro\",\n",
        "    \"Year\" : \"Ano\",\n",
        "    \"Model\" : \"Modelo\",\n",
        "\n",
        "  \n",
        "\n",
        "}\n",
        "\n",
        "df = df.rename(columns=traducao)"
      ],
      "metadata": {
        "id": "FqWaPS5d7yk0"
      },
      "execution_count": 48,
      "outputs": []
    },
    {
      "cell_type": "code",
      "source": [
        "df.head()"
      ],
      "metadata": {
        "colab": {
          "base_uri": "https://localhost:8080/",
          "height": 206
        },
        "id": "jNhjctn1APZA",
        "outputId": "2ed1b4ea-a7fc-42b2-bc4c-a9a854eb9db0"
      },
      "execution_count": 49,
      "outputs": [
        {
          "output_type": "execute_result",
          "data": {
            "text/plain": [
              "           Marca    Preço Tipo do carro  Milhas  Motor Tipo de combustivel  \\\n",
              "0            BMW   4200.0         sedan     277    2.0              Petrol   \n",
              "1  Mercedes-Benz   7900.0           van     427    2.9              Diesel   \n",
              "2  Mercedes-Benz  13300.0         sedan     358    5.0                 Gas   \n",
              "3           Audi  23000.0     crossover     240    4.2              Petrol   \n",
              "4         Toyota  18300.0     crossover     120    2.0              Petrol   \n",
              "\n",
              "  Registro   Ano        Modelo  \n",
              "0      yes  1991           320  \n",
              "1      yes  1999  Sprinter 212  \n",
              "2      yes  2003         S 500  \n",
              "3      yes  2007            Q7  \n",
              "4      yes  2011         Rav 4  "
            ],
            "text/html": [
              "\n",
              "  <div id=\"df-636a8706-24a4-4ebd-a9a9-ec5c7c5d6f55\">\n",
              "    <div class=\"colab-df-container\">\n",
              "      <div>\n",
              "<style scoped>\n",
              "    .dataframe tbody tr th:only-of-type {\n",
              "        vertical-align: middle;\n",
              "    }\n",
              "\n",
              "    .dataframe tbody tr th {\n",
              "        vertical-align: top;\n",
              "    }\n",
              "\n",
              "    .dataframe thead th {\n",
              "        text-align: right;\n",
              "    }\n",
              "</style>\n",
              "<table border=\"1\" class=\"dataframe\">\n",
              "  <thead>\n",
              "    <tr style=\"text-align: right;\">\n",
              "      <th></th>\n",
              "      <th>Marca</th>\n",
              "      <th>Preço</th>\n",
              "      <th>Tipo do carro</th>\n",
              "      <th>Milhas</th>\n",
              "      <th>Motor</th>\n",
              "      <th>Tipo de combustivel</th>\n",
              "      <th>Registro</th>\n",
              "      <th>Ano</th>\n",
              "      <th>Modelo</th>\n",
              "    </tr>\n",
              "  </thead>\n",
              "  <tbody>\n",
              "    <tr>\n",
              "      <th>0</th>\n",
              "      <td>BMW</td>\n",
              "      <td>4200.0</td>\n",
              "      <td>sedan</td>\n",
              "      <td>277</td>\n",
              "      <td>2.0</td>\n",
              "      <td>Petrol</td>\n",
              "      <td>yes</td>\n",
              "      <td>1991</td>\n",
              "      <td>320</td>\n",
              "    </tr>\n",
              "    <tr>\n",
              "      <th>1</th>\n",
              "      <td>Mercedes-Benz</td>\n",
              "      <td>7900.0</td>\n",
              "      <td>van</td>\n",
              "      <td>427</td>\n",
              "      <td>2.9</td>\n",
              "      <td>Diesel</td>\n",
              "      <td>yes</td>\n",
              "      <td>1999</td>\n",
              "      <td>Sprinter 212</td>\n",
              "    </tr>\n",
              "    <tr>\n",
              "      <th>2</th>\n",
              "      <td>Mercedes-Benz</td>\n",
              "      <td>13300.0</td>\n",
              "      <td>sedan</td>\n",
              "      <td>358</td>\n",
              "      <td>5.0</td>\n",
              "      <td>Gas</td>\n",
              "      <td>yes</td>\n",
              "      <td>2003</td>\n",
              "      <td>S 500</td>\n",
              "    </tr>\n",
              "    <tr>\n",
              "      <th>3</th>\n",
              "      <td>Audi</td>\n",
              "      <td>23000.0</td>\n",
              "      <td>crossover</td>\n",
              "      <td>240</td>\n",
              "      <td>4.2</td>\n",
              "      <td>Petrol</td>\n",
              "      <td>yes</td>\n",
              "      <td>2007</td>\n",
              "      <td>Q7</td>\n",
              "    </tr>\n",
              "    <tr>\n",
              "      <th>4</th>\n",
              "      <td>Toyota</td>\n",
              "      <td>18300.0</td>\n",
              "      <td>crossover</td>\n",
              "      <td>120</td>\n",
              "      <td>2.0</td>\n",
              "      <td>Petrol</td>\n",
              "      <td>yes</td>\n",
              "      <td>2011</td>\n",
              "      <td>Rav 4</td>\n",
              "    </tr>\n",
              "  </tbody>\n",
              "</table>\n",
              "</div>\n",
              "      <button class=\"colab-df-convert\" onclick=\"convertToInteractive('df-636a8706-24a4-4ebd-a9a9-ec5c7c5d6f55')\"\n",
              "              title=\"Convert this dataframe to an interactive table.\"\n",
              "              style=\"display:none;\">\n",
              "        \n",
              "  <svg xmlns=\"http://www.w3.org/2000/svg\" height=\"24px\"viewBox=\"0 0 24 24\"\n",
              "       width=\"24px\">\n",
              "    <path d=\"M0 0h24v24H0V0z\" fill=\"none\"/>\n",
              "    <path d=\"M18.56 5.44l.94 2.06.94-2.06 2.06-.94-2.06-.94-.94-2.06-.94 2.06-2.06.94zm-11 1L8.5 8.5l.94-2.06 2.06-.94-2.06-.94L8.5 2.5l-.94 2.06-2.06.94zm10 10l.94 2.06.94-2.06 2.06-.94-2.06-.94-.94-2.06-.94 2.06-2.06.94z\"/><path d=\"M17.41 7.96l-1.37-1.37c-.4-.4-.92-.59-1.43-.59-.52 0-1.04.2-1.43.59L10.3 9.45l-7.72 7.72c-.78.78-.78 2.05 0 2.83L4 21.41c.39.39.9.59 1.41.59.51 0 1.02-.2 1.41-.59l7.78-7.78 2.81-2.81c.8-.78.8-2.07 0-2.86zM5.41 20L4 18.59l7.72-7.72 1.47 1.35L5.41 20z\"/>\n",
              "  </svg>\n",
              "      </button>\n",
              "      \n",
              "  <style>\n",
              "    .colab-df-container {\n",
              "      display:flex;\n",
              "      flex-wrap:wrap;\n",
              "      gap: 12px;\n",
              "    }\n",
              "\n",
              "    .colab-df-convert {\n",
              "      background-color: #E8F0FE;\n",
              "      border: none;\n",
              "      border-radius: 50%;\n",
              "      cursor: pointer;\n",
              "      display: none;\n",
              "      fill: #1967D2;\n",
              "      height: 32px;\n",
              "      padding: 0 0 0 0;\n",
              "      width: 32px;\n",
              "    }\n",
              "\n",
              "    .colab-df-convert:hover {\n",
              "      background-color: #E2EBFA;\n",
              "      box-shadow: 0px 1px 2px rgba(60, 64, 67, 0.3), 0px 1px 3px 1px rgba(60, 64, 67, 0.15);\n",
              "      fill: #174EA6;\n",
              "    }\n",
              "\n",
              "    [theme=dark] .colab-df-convert {\n",
              "      background-color: #3B4455;\n",
              "      fill: #D2E3FC;\n",
              "    }\n",
              "\n",
              "    [theme=dark] .colab-df-convert:hover {\n",
              "      background-color: #434B5C;\n",
              "      box-shadow: 0px 1px 3px 1px rgba(0, 0, 0, 0.15);\n",
              "      filter: drop-shadow(0px 1px 2px rgba(0, 0, 0, 0.3));\n",
              "      fill: #FFFFFF;\n",
              "    }\n",
              "  </style>\n",
              "\n",
              "      <script>\n",
              "        const buttonEl =\n",
              "          document.querySelector('#df-636a8706-24a4-4ebd-a9a9-ec5c7c5d6f55 button.colab-df-convert');\n",
              "        buttonEl.style.display =\n",
              "          google.colab.kernel.accessAllowed ? 'block' : 'none';\n",
              "\n",
              "        async function convertToInteractive(key) {\n",
              "          const element = document.querySelector('#df-636a8706-24a4-4ebd-a9a9-ec5c7c5d6f55');\n",
              "          const dataTable =\n",
              "            await google.colab.kernel.invokeFunction('convertToInteractive',\n",
              "                                                     [key], {});\n",
              "          if (!dataTable) return;\n",
              "\n",
              "          const docLinkHtml = 'Like what you see? Visit the ' +\n",
              "            '<a target=\"_blank\" href=https://colab.research.google.com/notebooks/data_table.ipynb>data table notebook</a>'\n",
              "            + ' to learn more about interactive tables.';\n",
              "          element.innerHTML = '';\n",
              "          dataTable['output_type'] = 'display_data';\n",
              "          await google.colab.output.renderOutput(dataTable, element);\n",
              "          const docLink = document.createElement('div');\n",
              "          docLink.innerHTML = docLinkHtml;\n",
              "          element.appendChild(docLink);\n",
              "        }\n",
              "      </script>\n",
              "    </div>\n",
              "  </div>\n",
              "  "
            ]
          },
          "metadata": {},
          "execution_count": 49
        }
      ]
    },
    {
      "cell_type": "code",
      "source": [
        "\n",
        "def converter_para_quilometros(Milhas):\n",
        "    quilometros = Milhas * 1000\n",
        "    return quilometros\n",
        "\n",
        "\n",
        "df['Quilometragem'] = converter_para_quilometros(df['Milhas'])\n"
      ],
      "metadata": {
        "id": "Q_lCRDUqA3By"
      },
      "execution_count": 51,
      "outputs": []
    },
    {
      "cell_type": "markdown",
      "source": [
        "## **Analise descritiva dos dados - 2 pontos**\n",
        "\n",
        "3 - Faça uma análise exploratória dos dados, utilizando gráficos e tabelas para realizar correlações entre os atributos e que permitam criar um cenário de correlação entre eles."
      ],
      "metadata": {
        "id": "JkvVJsjg5kTq"
      }
    },
    {
      "cell_type": "code",
      "source": [
        "\n",
        "import matplotlib.pyplot as plt\n",
        "import seaborn as sns\n",
        "\n",
        "df = df.dropna()\n",
        "\n",
        "\n",
        "corr_matrix = df.corr()\n",
        "\n",
        "\n",
        "sns.heatmap(corr_matrix, annot=True, cmap='coolwarm')\n",
        "plt.title('Tabela de Correlação')\n",
        "plt.show()"
      ],
      "metadata": {
        "id": "ENdW7hn56FFp",
        "colab": {
          "base_uri": "https://localhost:8080/",
          "height": 281
        },
        "outputId": "3469e312-6488-44fe-adb6-8637e0d1ed4d"
      },
      "execution_count": 52,
      "outputs": [
        {
          "output_type": "display_data",
          "data": {
            "text/plain": [
              "<Figure size 432x288 with 2 Axes>"
            ],
            "image/png": "[encoded data removed]"
          },
          "metadata": {
            "needs_background": "light"
          }
        }
      ]
    },
    {
      "cell_type": "code",
      "source": [
        "\n",
        "plt.scatter(x=df['Preço'], y=df['Ano'])\n",
        "\n",
        "plt.title('Correlação entre Preço e Ano')\n",
        "plt.xlabel('Preço')\n",
        "plt.ylabel('Ano')\n",
        "\n",
        "plt.show()"
      ],
      "metadata": {
        "colab": {
          "base_uri": "https://localhost:8080/",
          "height": 295
        },
        "id": "x1jJTTdepJLp",
        "outputId": "5a77d7a7-7b50-4307-fc1f-89e4623da490"
      },
      "execution_count": 53,
      "outputs": [
        {
          "output_type": "display_data",
          "data": {
            "text/plain": [
              "<Figure size 432x288 with 1 Axes>"
            ],
            "image/png": "[encoded data removed]"
          },
          "metadata": {
            "needs_background": "light"
          }
        }
      ]
    },
    {
      "cell_type": "markdown",
      "source": [
        "## **Desenvolvimento do Modelo - 2 pontos**\n",
        "\n",
        "4 - O conjunto de dados indica a aplicação de qual modelo de aprendizagem de máquina para responder a pergunta do desafio? Por quê? (1,0)"
      ],
      "metadata": {
        "id": "O_m8RaIs6KIz"
      }
    },
    {
      "cell_type": "markdown",
      "source": [
        ")Resposta:E o modelo de supervionado,pois tem dados que queremos prever"
      ],
      "metadata": {
        "id": "nWTzZl2K6kY_"
      }
    },
    {
      "cell_type": "markdown",
      "source": [
        "5 - Qual a técnica sugerida para este projeto? Por quê? (1,0)"
      ],
      "metadata": {
        "id": "uUkBz0pu6nLk"
      }
    },
    {
      "cell_type": "markdown",
      "source": [
        "Resposta:A regressão linear.Pois, dado é a previsão do preço de algo com base no ano. O texto destaca que em casos reais essa correlação deveria existir, mas não é necessário para a aplicação da regressão linear."
      ],
      "metadata": {
        "id": "2V2a4DRv6xg_"
      }
    },
    {
      "cell_type": "markdown",
      "source": [
        "Com base nas suas respostas, agora escolha dois algortimos para implementar e comparar a performance de cada um deles ao final do desafio."
      ],
      "metadata": {
        "id": "wxJjN_cO7XbH"
      }
    },
    {
      "cell_type": "markdown",
      "source": [
        "Resposta:\n",
        "\n",
        "Algoritmo 1:\n",
        "\n",
        "Algoritmo 2:"
      ],
      "metadata": {
        "id": "N6tmcuJk7fn4"
      }
    },
    {
      "cell_type": "code",
      "source": [
        "#1\n",
        "\n",
        "#Algoritmo 1: \n",
        "\n",
        "from sklearn.linear_model import LinearRegression\n",
        "from sklearn.metrics import r2_score\n",
        "\n",
        "X = df[['Preço']]\n",
        "y = df['Quilometragem']\n",
        "\n",
        "from sklearn.model_selection import train_test_split\n",
        "X_train, X_test, y_train, y_test = train_test_split(X, y, test_size=0.2, random_state=42)\n",
        "\n",
        "model = LinearRegression()\n",
        "model.fit(X_train, y_train)\n",
        "\n",
        "y_pred = model.predict(X_test)\n",
        "\n",
        "r2 = r2_score(y_test, y_pred)\n",
        "print(\"R2 Score: {:.2f}\".format(r2))"
      ],
      "metadata": {
        "colab": {
          "base_uri": "https://localhost:8080/"
        },
        "id": "b_8RRv6hr-s8",
        "outputId": "4bcad98c-826a-4951-d04c-67d8621642ff"
      },
      "execution_count": 63,
      "outputs": [
        {
          "output_type": "stream",
          "name": "stdout",
          "text": [
            "R2 Score: 0.25\n"
          ]
        }
      ]
    },
    {
      "cell_type": "code",
      "source": [
        "#2\n",
        "\n",
        "X = df[['Marca', 'Preço', 'Tipo do carro', 'Motor', 'Tipo de combustivel', 'Registro', 'Ano', 'Modelo']]\n",
        "y = df['Quilometragem']\n",
        "\n",
        "\n",
        "X = pd.get_dummies(X)\n",
        "\n",
        "from sklearn.model_selection import train_test_split\n",
        "X_train, X_test, y_train, y_test = train_test_split(X, y, test_size=0.2, random_state=42)\n",
        "\n",
        "model = LinearRegression()\n",
        "model.fit(X_train, y_train)\n",
        "\n",
        "y_pred = model.predict(X_test)\n",
        "\n",
        "r2 = r2_score(y_test, y_pred)\n",
        "print(\"R2 Score: {:.2f}\".format(r2))"
      ],
      "metadata": {
        "colab": {
          "base_uri": "https://localhost:8080/"
        },
        "id": "l3eO52bet2CT",
        "outputId": "44c1a700-8990-4fe2-afd5-c0aa4ff08cf8"
      },
      "execution_count": 55,
      "outputs": [
        {
          "output_type": "stream",
          "name": "stdout",
          "text": [
            "R2 Score: 0.55\n"
          ]
        }
      ]
    },
    {
      "cell_type": "markdown",
      "source": [
        "## **Treinamento e teste do Modelo - 3 pontos**\n",
        "\n",
        "6 - Crie um subset dos dados que serão utilizados para o treinamento e para o teste do modelo. Divida este subset em treino e teste. (1,0) "
      ],
      "metadata": {
        "id": "H9gsbQvj6y_m"
      }
    },
    {
      "cell_type": "code",
      "source": [
        "#Sua resposta aqui\n",
        "\n",
        "from sklearn.model_selection import train_test_split\n",
        "X = df[['Motor', 'Ano', 'Quilometragem']]\n",
        "y = df['Preço']\n",
        "X_train, X_test, y_train, y_test = train_test_split(X, y,test_size=0.2)"
      ],
      "metadata": {
        "id": "WW17xlyN78B8"
      },
      "execution_count": 56,
      "outputs": []
    },
    {
      "cell_type": "code",
      "source": [
        "print(\"Preços de Treino (y_train):\")\n",
        "print(y_train.head())"
      ],
      "metadata": {
        "colab": {
          "base_uri": "https://localhost:8080/"
        },
        "id": "_LIJvCDpv9vO",
        "outputId": "74bc02eb-2af8-4df6-9dba-e20dc529b69e"
      },
      "execution_count": 57,
      "outputs": [
        {
          "output_type": "stream",
          "name": "stdout",
          "text": [
            "Preços de Treino (y_train):\n",
            "4338    11500.0\n",
            "985      5900.0\n",
            "2107     8500.0\n",
            "2821    17500.0\n",
            "4120    18800.0\n",
            "Name: Preço, dtype: float64\n"
          ]
        }
      ]
    },
    {
      "cell_type": "code",
      "source": [
        "len(X_train), len(X_test), len(y_train), len(y_test)"
      ],
      "metadata": {
        "colab": {
          "base_uri": "https://localhost:8080/"
        },
        "id": "zd3kmod_v-76",
        "outputId": "7b128a0e-7df2-4be8-ff6e-879115f9bbe4"
      },
      "execution_count": 58,
      "outputs": [
        {
          "output_type": "execute_result",
          "data": {
            "text/plain": [
              "(3220, 805, 3220, 805)"
            ]
          },
          "metadata": {},
          "execution_count": 58
        }
      ]
    },
    {
      "cell_type": "code",
      "source": [
        "\n",
        "print(X_train.shape)\n",
        "print(X_test.shape)\n",
        "print(y_train.shape)\n",
        "print(y_test.shape)"
      ],
      "metadata": {
        "colab": {
          "base_uri": "https://localhost:8080/"
        },
        "id": "HV7JwdCswPhS",
        "outputId": "d8a9e9d3-4088-4e61-f749-1bf1cf0512ce"
      },
      "execution_count": 59,
      "outputs": [
        {
          "output_type": "stream",
          "name": "stdout",
          "text": [
            "(3220, 3)\n",
            "(805, 3)\n",
            "(3220,)\n",
            "(805,)\n"
          ]
        }
      ]
    },
    {
      "cell_type": "code",
      "source": [],
      "metadata": {
        "id": "Y8JWNTUbwQeR"
      },
      "execution_count": null,
      "outputs": []
    },
    {
      "cell_type": "markdown",
      "source": [
        "7 - Faça o treinamento e teste dos 2 algoritmos escolhidos. Utilize uma métrica (ex. R2-score, RMSE e MAE...) para avaliar a performance dos modelos."
      ],
      "metadata": {
        "id": "QpDpVyWw7-Au"
      }
    },
    {
      "cell_type": "markdown",
      "source": [
        "7.1 - Algoritmo 1: (0,5)\n"
      ],
      "metadata": {
        "id": "Ft06krzb8RAV"
      }
    },
    {
      "cell_type": "code",
      "source": [
        "#Sua resposta aqui\n",
        "\n",
        "from sklearn.linear_model import LinearRegression\n",
        "from sklearn.ensemble import RandomForestRegressor\n",
        "from sklearn.metrics import r2_score, mean_squared_error, mean_absolute_error\n",
        "\n",
        "linear_reg = LinearRegression()\n",
        "\n",
        "linear_reg.fit(X_train, y_train)\n",
        "\n",
        "linear_pred = linear_reg.predict(X_test)\n",
        "\n",
        "print(\"R2: {:.2f}\".format(r2_score(y_test, linear_pred)))\n"
      ],
      "metadata": {
        "id": "vf4QB14J8Usb",
        "colab": {
          "base_uri": "https://localhost:8080/"
        },
        "outputId": "5e7fcc74-b1d7-4242-b920-9a7a71ed88a9"
      },
      "execution_count": 60,
      "outputs": [
        {
          "output_type": "stream",
          "name": "stdout",
          "text": [
            "R2: 0.28\n"
          ]
        }
      ]
    },
    {
      "cell_type": "markdown",
      "source": [
        "7.2 - Algoritmo 2:  (0,5)"
      ],
      "metadata": {
        "id": "S8MKlSSM8dz5"
      }
    },
    {
      "cell_type": "code",
      "source": [
        "#Sua resposta aqui\n",
        "\n",
        "rf_reg = RandomForestRegressor(n_estimators=100, random_state=42)\n",
        "\n",
        "rf_reg.fit(X_train, y_train)\n",
        "\n",
        "rf_pred = rf_reg.predict(X_test)\n",
        "\n",
        "print(\"R2: {:.2f}\".format(r2_score(y_test, rf_pred)))"
      ],
      "metadata": {
        "id": "6kM92epO8gas",
        "colab": {
          "base_uri": "https://localhost:8080/"
        },
        "outputId": "2ce2ed76-d455-4d5b-9717-1c9e7cd5193a"
      },
      "execution_count": 61,
      "outputs": [
        {
          "output_type": "stream",
          "name": "stdout",
          "text": [
            "R2: 0.85\n"
          ]
        }
      ]
    },
    {
      "cell_type": "markdown",
      "source": [
        "7.3 - Qual dos algortimos obteve melhor resultado? Por quê? (1,0)"
      ],
      "metadata": {
        "id": "rBJqsqIB84E_"
      }
    },
    {
      "cell_type": "markdown",
      "source": [
        "*Resposta*:O 2,pois que utilizou o método de regressão de floresta aleatória, teve melhor desempenho do que o primeiro. Para avaliar a qualidade dos modelos, foram utilizadas três métricas: R2 score, RMSE e MAE. Quanto mais próximo de 1 o R2 score, melhor o modelo, e quanto mais próximos de 0 o RMSE e o MAE, melhor o modelo. Como o segundo modelo obteve o melhor resultado no R2 score, foi considerado o melhor dos dois."
      ],
      "metadata": {
        "id": "cnGh51RS8_we"
      }
    },
    {
      "cell_type": "markdown",
      "source": [
        "## **Modelo de Produção: Teste com novos dados - 1 ponto**\n",
        "\n",
        "8 - Use o seu modelo treinado para responder a pergunta do desafio:"
      ],
      "metadata": {
        "id": "YpNVMhSw9Fe7"
      }
    },
    {
      "cell_type": "code",
      "source": [
        "#Sua resposta aqui\n",
        "\n",
        "from sklearn.linear_model import LinearRegression\n",
        "\n",
        "model = LinearRegression().fit(X_train, y_train)\n",
        "\n",
        "new_car = {'Motor': 2.0, 'Ano': 2005, 'Quilometragem': 172095}\n",
        "\n",
        "new_car_df = pd.DataFrame(data=new_car, index=[0])\n",
        "\n",
        "price = model.predict(new_car_df)\n",
        "\n",
        "print(f\"O preço previsto para o carro é: R$ {price[0]:.2f}\")"
      ],
      "metadata": {
        "id": "zCssWHNU9R8P",
        "colab": {
          "base_uri": "https://localhost:8080/"
        },
        "outputId": "dcf1192c-fc01-452c-c0cd-6cfb24be26c0"
      },
      "execution_count": 62,
      "outputs": [
        {
          "output_type": "stream",
          "name": "stdout",
          "text": [
            "O preço previsto para o carro é: R$ 17052.46\n"
          ]
        }
      ]
    }
  ]
}